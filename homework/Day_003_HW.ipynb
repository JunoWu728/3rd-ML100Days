{
 "cells": [
  {
   "cell_type": "markdown",
   "metadata": {},
   "source": [
    "## [作業目標]\n",
    "持續接觸有關機器學習的相關專案與最新技術"
   ]
  },
  {
   "cell_type": "markdown",
   "metadata": {},
   "source": [
    "## [作業重點]\n",
    "透過觀察頂尖公司的機器學習文章，來了解各公司是怎麼應用機器學習在實際的專案上"
   ]
  },
  {
   "cell_type": "markdown",
   "metadata": {},
   "source": [
    "## [作業]\n",
    "今天的作業希望大家能夠看看全球機器學習巨頭們在做的機器學習專案。以 google 為例，下圖是 Google 內部專案使用機器學習的數量，隨著時間進展，現在早已超過 2000 個專案在使用機器學習。"
   ]
  },
  {
   "cell_type": "markdown",
   "metadata": {},
   "source": [
    "![image](https://cdn-images-1.medium.com/max/800/1*U_L8qI8RmYS-MOBrYvXhSA.png)"
   ]
  },
  {
   "cell_type": "markdown",
   "metadata": {},
   "source": [
    "底下幫同學整理幾間知名企業的 blog 或機器學習網站 (自行搜尋也可)，這些網站都會整理最新的機器學習專案或者是技術文章，請挑選一篇文章閱讀並試著回答\n",
    "1. 專案的目標？ (要解決什麼問題）\n",
    "2. 使用的技術是？ (只需知道名稱即可，例如：使用 CNN 卷積神經網路做影像分類)\n",
    "3. 資料來源？ "
   ]
  },
  {
   "cell_type": "markdown",
   "metadata": {},
   "source": [
    "- [Google AI blog](https://ai.googleblog.com/)\n",
    "- [Facebook Research blog](https://research.fb.com/blog/)\n",
    "- [Apple machine learning journal](https://machinelearning.apple.com/)\n",
    "- [機器之心](https://www.jiqizhixin.com/)\n",
    "- [雷鋒網](http://www.leiphone.com/category/ai)"
   ]
  },
  {
   "cell_type": "markdown",
   "metadata": {},
   "source": [
    "我挑選的文章是 \n",
    "漫画汉化组福音：深度学习工具一键抠图 \n",
    " \n",
    "1. 專案的目標？ (要解決什麼問題）\n",
    "本編是介紹韓國的開發者開發SickZil-Machine，一键抠图\n",
    "主要是要解決漫畫漢化翻譯中，一鍵去除原文文字，並且對於原本是文字部分的缺失畫面自動修補的繁重工作\n",
    "\n",
    "2. 使用的技術是？ (只需知道名稱即可，例如：使用 CNN 卷積神經網路做影像分類)\n",
    "(1)模型：\n",
    "共使用了兩個模型，第一個是 Seg Net，用於檢測漫畫中的問題。另一個則是 Compl Net，用於處理漫畫圖像，去除文字並補全缺失的圖像部分。\n",
    "Seg Net 使用的是 U-NET。這是一種編碼器-解碼器架構。編碼器逐漸減少池化層的空間維度，解碼器逐步修復物體的細節和空間維度。\n",
    "而 Compl Net 使用的是 deepfill v2，這是一個用於對任意被 mask 的圖像進行修復的模型，可以適應各種 mask 的方式（塊狀遮蓋或線條遮蓋都可以）。\n",
    "(2)系統訓練：\n",
    "在 Seg Net 上，作者使用了原始的漫畫圖像和文本內容遮蓋數據，用於覆蓋原始漫畫中所有的文字部分。在 Compl Net 上，模型的輸入為被移除了文字的漫畫圖像。模型使用了 285 個圖像-遮蓋對和 31500 張漫畫圖像，其中有將近 12000 張漫畫是有文字的，因此訓練的數據比較平衡。\n",
    "文中並有開源碼的使用教學供參考。\n",
    "\n",
    "3. 資料來源？ \n",
    "https://www.jiqizhixin.com/articles/2019-08-22-6\n",
    "https://github.com/KUR-creative/SickZil-Machine"
   ]
  },
  {
   "cell_type": "code",
   "execution_count": null,
   "metadata": {},
   "outputs": [],
   "source": []
  }
 ],
 "metadata": {
  "kernelspec": {
   "display_name": "Python 3",
   "language": "python",
   "name": "python3"
  },
  "language_info": {
   "codemirror_mode": {
    "name": "ipython",
    "version": 3
   },
   "file_extension": ".py",
   "mimetype": "text/x-python",
   "name": "python",
   "nbconvert_exporter": "python",
   "pygments_lexer": "ipython3",
   "version": "3.7.3"
  }
 },
 "nbformat": 4,
 "nbformat_minor": 2
}
